{
 "cells": [
  {
   "cell_type": "markdown",
   "id": "2b9277bc-b9a5-4ffc-a25d-da2a85badae6",
   "metadata": {},
   "source": [
    "#  *Black-Scholes model for pricing European options*"
   ]
  },
  {
   "attachments": {},
   "cell_type": "markdown",
   "id": "c04cf4a2-b328-46fa-8d9e-0d52ee25ffdc",
   "metadata": {},
   "source": [
    "The Black-Scholes model is one of the most important mathematical models that determines the fair value of an options contract. It is a differential equation and requires five input variables: the strike price of an option, the current stock price, the time to expiration, the risk-free rate, and the volatility.\n",
    "\n",
    "The key assumptions of this model are:\n",
    "- No dividends are paid out during the option's life\n",
    "- Markets are random because market movements can't be predicted.\n",
    "- There are no transaction costs in buying the option.\n",
    "- The risk-free rate and volatility of the underlying asset are known and constant.\n",
    "- The returns of the underlying asset are normally distributed.\n",
    "- The option is European and can only be exercised at expiration."
   ]
  },
  {
   "attachments": {
    "9fc40d21-bef2-44fa-89fb-56fa56f411aa.png": {
     "image/png": "[encoded data removed]"
    }
   },
   "cell_type": "markdown",
   "id": "d811fcfb-8279-4892-b770-e555133fbcd1",
   "metadata": {},
   "source": [
    "Given by:\n",
    "\n",
    "![Screen Shot 2025-05-20 at 9.55.09 PM.png](attachment:9fc40d21-bef2-44fa-89fb-56fa56f411aa.png)"
   ]
  },
  {
   "cell_type": "markdown",
   "id": "d1064c11-e1b6-4f5d-9a08-54b9091a0f83",
   "metadata": {},
   "source": [
    "- C: call price\n",
    "- S: spot price\n",
    "- K: strike price\n",
    "- r: risk-free rate\n",
    "- t: time till maturity\n",
    "- N: normal distribution\n",
    "- σ: volatility\n",
    "- d₁: probability factor that accounts for the expected stock price if the option is exercised\n",
    "- d₂: probability factor that represents the risk-adjusted probability that the option will be exercised"
   ]
  },
  {
   "cell_type": "code",
   "execution_count": 105,
   "id": "1fffd919-81af-48c1-9ab3-25e53d3ad992",
   "metadata": {},
   "outputs": [],
   "source": [
    "import numpy as np\n",
    "import pandas as pd\n",
    "from scipy import stats as st"
   ]
  },
  {
   "cell_type": "code",
   "execution_count": 106,
   "id": "d9a86fc6-5fa2-4116-acee-ba0c476c2f1e",
   "metadata": {},
   "outputs": [],
   "source": [
    "# Define the European option pricing formula\n",
    "def eu_pricing(list, type='call'):\n",
    "    try:\n",
    "        d1 = (np.log(S/K) + (r + 0.5*sigma**2)*T)/sigma*np.sqrt(T)\n",
    "        d2 = d1 - sigma*np.sqrt(T)\n",
    "        \n",
    "        if type == 'call':\n",
    "            call_price = S*st.norm.cdf(d1)-K*np.exp(-r*T)*st.norm.cdf(d2)\n",
    "            return f'European call price: ${np.round(call_price, 4)}'\n",
    "        \n",
    "        elif type == 'put':\n",
    "            put_price = K*np.exp(-r*T)*st.norm.cdf(-d2)-S*st.norm.cdf(-d1)\n",
    "            return f'European put price: ${np.round(put_price, 4)}'\n",
    "        \n",
    "        else:\n",
    "            raise ValueError(\"Invalid option type. Must be 'call' or 'put'. \")\n",
    "    \n",
    "    except Exception as e:\n",
    "        return f'An error occurred: {str(e)}'"
   ]
  },
  {
   "cell_type": "code",
   "execution_count": 107,
   "id": "e38bb9e8-1d64-4cbe-b436-ca62f5f46d28",
   "metadata": {},
   "outputs": [
    {
     "name": "stdin",
     "output_type": "stream",
     "text": [
      "Enter the spot price: 100\n",
      "Enter the strike price: 25\n",
      "Enter the risk-free interest rate: 0.02\n",
      "Enter the maturity date: 0.5\n",
      "Enter the volatility: 0.1\n",
      "Type of the European option(call/put): call\n"
     ]
    },
    {
     "name": "stdout",
     "output_type": "stream",
     "text": [
      "[100.0, 25.0, 0.02, 0.5, 0.1]\n"
     ]
    },
    {
     "data": {
      "text/plain": [
       "'European call price: $75.2488'"
      ]
     },
     "execution_count": 107,
     "metadata": {},
     "output_type": "execute_result"
    }
   ],
   "source": [
    "# Create function to allow users to enter values for the parameters\n",
    "list = [] # create an empty list\n",
    "\n",
    "# Input the parameters and append them in the list\n",
    "S = float(input('Enter the spot price:'))\n",
    "list.append(S)\n",
    "\n",
    "K = float(input('Enter the strike price:'))\n",
    "list.append(K)\n",
    "\n",
    "r = float(input('Enter the risk-free interest rate:'))\n",
    "list.append(r)\n",
    "\n",
    "T = float(input('Enter the maturity date:'))\n",
    "list.append(T)\n",
    "\n",
    "sigma = float(input('Enter the volatility:'))\n",
    "list.append(sigma)\n",
    "\n",
    "# Input the type of the European option\n",
    "type = str(input('Type of the European option(call/put):'))\n",
    "\n",
    "# Display the list\n",
    "print(list)\n",
    "\n",
    "# Compute the European call/put price\n",
    "eu_pricing(list, type)"
   ]
  },
  {
   "cell_type": "markdown",
   "id": "93381f76-8837-432a-86fc-d8a123b03546",
   "metadata": {},
   "source": [
    "## *Model deployment with Streamlit app*"
   ]
  },
  {
   "cell_type": "code",
   "execution_count": 109,
   "id": "fc4e51ba-1253-4798-80c4-9b1ae8e149ae",
   "metadata": {},
   "outputs": [],
   "source": [
    "import streamlit as st\n",
    "import numpy as np\n",
    "from scipy import stats \n",
    "\n",
    "# Define the European option pricing formula\n",
    "def eu_pricing(S, K, r, T, sigma, type='call'):\n",
    "    try:\n",
    "        d1 = (np.log(S/K) + (r + 0.5*sigma**2)*T)/sigma*np.sqrt(T)\n",
    "        d2 = d1 - sigma*np.sqrt(T)\n",
    "        \n",
    "        if type == 'call':\n",
    "            call_price = S*st.norm.cdf(d1)-K*np.exp(-r*T)*st.norm.cdf(d2)\n",
    "            return f'European call price: ${np.round(call_price, 4)}'\n",
    "        \n",
    "        elif type == 'put':\n",
    "            put_price = K*np.exp(-r*T)*st.norm.cdf(-d2)-S*st.norm.cdf(-d1)\n",
    "            return f'European put price: ${np.round(put_price, 4)}'\n",
    "        \n",
    "        else:\n",
    "            raise ValueError(\"Invalid option type. Must be 'call' or 'put'. \")\n",
    "    \n",
    "    except Exception as e:\n",
    "        return f'An error occurred: {str(e)}'"
   ]
  },
  {
   "cell_type": "markdown",
   "id": "a957a5ff-ae86-4ed6-8042-ad9af4255754",
   "metadata": {},
   "source": [
    "# Define the Streamlit app for European option pricing\n",
    "\n",
    "def main():\n",
    "    st.title(\"European Options Pricing APP\")\n",
    "    \n",
    "    st.sidebar.header(\"Options Pricing Parameters\")\n",
    "    S = st.sidebar.number_input(\"Current Stock Price\", min_value=0.0, value=100.0, step=0.1)\n",
    "    K = st.sidebar.number_input(\"Strike Price\", min_value=0.0, value=100.0, step=0.1)\n",
    "    r = st.sidebar.number_input(\"Risk-free rate\", min_value=0.0, value=0.05, step=0.1)\n",
    "    T = st.sidebar.number_input(\"Time to maturity\", min_value=0.0, value=1.0, step=0.1)\n",
    "    sigma = st.sidebar.number_input(\"Volatility\", min_value=0.0, value=0.2, step=0.1)\n",
    "    \n",
    "    # Option type selector\n",
    "    option_type=st.sidebar.selectbox(\"Option Type\", ['call', 'put'])\n",
    "    \n",
    "    # Calculate and display results\n",
    "    result = eu_pricing(S, K, r, T, sigma, type=option_type)\n",
    "    \n",
    "    st.subheader(\"Options Pricing Result\")\n",
    "    st.write(result)\n",
    "\n",
    "# Allows the function to be callable when imported into another Python program\n",
    "if __name__ == \"__main__\":\n",
    "    main()"
   ]
  }
 ],
 "metadata": {
  "kernelspec": {
   "display_name": "Python [conda env:base] *",
   "language": "python",
   "name": "conda-base-py"
  },
  "language_info": {
   "codemirror_mode": {
    "name": "ipython",
    "version": 3
   },
   "file_extension": ".py",
   "mimetype": "text/x-python",
   "name": "python",
   "nbconvert_exporter": "python",
   "pygments_lexer": "ipython3",
   "version": "3.12.7"
  }
 },
 "nbformat": 4,
 "nbformat_minor": 5
}
